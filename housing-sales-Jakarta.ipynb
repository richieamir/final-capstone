{
 "cells": [
  {
   "cell_type": "markdown",
   "metadata": {},
   "source": [
    "# Housing sales Price and Venues Data Analysis in Jakarta"
   ]
  },
  {
   "cell_type": "markdown",
   "metadata": {},
   "source": [
    "## A. Introduction"
   ]
  },
  {
   "cell_type": "markdown",
   "metadata": {},
   "source": [
    "### A.1 Description and Discussion Background"
   ]
  },
  {
   "cell_type": "markdown",
   "metadata": {},
   "source": [
    "Jakarta has most density in Indonesia with 9.6 million people live. It has 661,5 SqKm with 14.464 people per square kilometer. The city is divided to 5 borough East, West, South,North and Center Jakarta. As an Indonesian, I use my capital city in my project. As a capital city and a business city, Jakarta has high price real estates. If people want to live in Jakarta, it should cost around Rp. 2.000.0000 - Rp. 5.000.000 average per month to rent an apartment or a boarding house, and around Rp. 500.000.000 - Rp. 1.000.000.000 for an apartment, of course it depends on the location. When we start to think to live in Jakarta, we may want to choose the best location for us with vary venues like cafe, hospital, etc and low cost absolutely. However it is difficult to obtain the information to determine which real estate we should buy. Will the house really worth it or not.\n",
    "\n",
    "When we consider all the parameter, we can create a information chart where the real estate is placed and each district is clutered according to the venues."
   ]
  },
  {
   "cell_type": "markdown",
   "metadata": {},
   "source": [
    "### A.2 Data Description"
   ]
  },
  {
   "cell_type": "markdown",
   "metadata": {},
   "source": [
    "This is the data I will use:\n",
    "\n",
    "- https://ekonomi.bisnis.com/read/20171110/48/708065/berikut-pergerakana-harga-properti-di-jakarta Average house price in jakarta\n",
    "- Foursquare API to show venues around the borough"
   ]
  },
  {
   "cell_type": "markdown",
   "metadata": {},
   "source": [
    "## B. Methodology"
   ]
  },
  {
   "cell_type": "markdown",
   "metadata": {},
   "source": [
    "I used github to store my database. My main data include Borough, average pricing house in Jakarta based on ekonomi.bisnis.com, latitude and longitude. I used python for my programming language cause it has a tons of library that can help me to analyze. I used folium to visualize geographic detail of Jakarta."
   ]
  },
  {
   "cell_type": "markdown",
   "metadata": {},
   "source": [
    "\n",
    "\n",
    "1. Creating dataframe from news data"
   ]
  },
  {
   "cell_type": "code",
   "execution_count": 1,
   "metadata": {},
   "outputs": [],
   "source": [
    "import pandas as pd\n",
    "import numpy as np"
   ]
  },
  {
   "cell_type": "code",
   "execution_count": 5,
   "metadata": {},
   "outputs": [],
   "source": [
    "datas = [['East Jakarta',7900,6.225,106.900],['West Jakarta',13200,6.167,106.763],['North Jakarta',17100,6.155,106.892],['South Jakarta',17900,6.261,106.810],['Center Jakarta',18700,6.2088,106.845]]\n",
    "df = pd.DataFrame(datas)\n",
    "df.columns = ['Borugh','Avg Price','Latitude','Longitude']\n",
    "df"
   ]
  },
  {
   "cell_type": "code",
   "execution_count": 9,
   "metadata": {},
   "outputs": [
    {
     "data": {
      "text/html": [
       "<div>\n",
       "<style scoped>\n",
       "    .dataframe tbody tr th:only-of-type {\n",
       "        vertical-align: middle;\n",
       "    }\n",
       "\n",
       "    .dataframe tbody tr th {\n",
       "        vertical-align: top;\n",
       "    }\n",
       "\n",
       "    .dataframe thead th {\n",
       "        text-align: right;\n",
       "    }\n",
       "</style>\n",
       "<table border=\"1\" class=\"dataframe\">\n",
       "  <thead>\n",
       "    <tr style=\"text-align: right;\">\n",
       "      <th></th>\n",
       "      <th>Borugh</th>\n",
       "      <th>Avg Price</th>\n",
       "      <th>Latitude</th>\n",
       "      <th>Longitude</th>\n",
       "    </tr>\n",
       "  </thead>\n",
       "  <tbody>\n",
       "    <tr>\n",
       "      <th>0</th>\n",
       "      <td>East Jakarta</td>\n",
       "      <td>7900</td>\n",
       "      <td>6.2250</td>\n",
       "      <td>106.900</td>\n",
       "    </tr>\n",
       "    <tr>\n",
       "      <th>1</th>\n",
       "      <td>West Jakarta</td>\n",
       "      <td>13200</td>\n",
       "      <td>6.1670</td>\n",
       "      <td>106.763</td>\n",
       "    </tr>\n",
       "    <tr>\n",
       "      <th>2</th>\n",
       "      <td>North Jakarta</td>\n",
       "      <td>17100</td>\n",
       "      <td>6.1550</td>\n",
       "      <td>106.892</td>\n",
       "    </tr>\n",
       "    <tr>\n",
       "      <th>3</th>\n",
       "      <td>South Jakarta</td>\n",
       "      <td>17900</td>\n",
       "      <td>6.2610</td>\n",
       "      <td>106.810</td>\n",
       "    </tr>\n",
       "    <tr>\n",
       "      <th>4</th>\n",
       "      <td>Center Jakarta</td>\n",
       "      <td>18700</td>\n",
       "      <td>6.2088</td>\n",
       "      <td>106.845</td>\n",
       "    </tr>\n",
       "  </tbody>\n",
       "</table>\n",
       "</div>"
      ],
      "text/plain": [
       "           Borugh  Avg Price  Latitude  Longitude\n",
       "0    East Jakarta       7900    6.2250    106.900\n",
       "1    West Jakarta      13200    6.1670    106.763\n",
       "2   North Jakarta      17100    6.1550    106.892\n",
       "3   South Jakarta      17900    6.2610    106.810\n",
       "4  Center Jakarta      18700    6.2088    106.845"
      ]
     },
     "execution_count": 9,
     "metadata": {},
     "output_type": "execute_result"
    }
   ],
   "source": []
  },
  {
   "cell_type": "code",
   "execution_count": null,
   "metadata": {},
   "outputs": [],
   "source": []
  }
 ],
 "metadata": {
  "kernelspec": {
   "display_name": "Python 3",
   "language": "python",
   "name": "python3"
  },
  "language_info": {
   "codemirror_mode": {
    "name": "ipython",
    "version": 3
   },
   "file_extension": ".py",
   "mimetype": "text/x-python",
   "name": "python",
   "nbconvert_exporter": "python",
   "pygments_lexer": "ipython3",
   "version": "3.8.3"
  }
 },
 "nbformat": 4,
 "nbformat_minor": 4
}
